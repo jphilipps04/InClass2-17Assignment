{
 "cells": [
  {
   "cell_type": "code",
   "execution_count": 15,
   "metadata": {},
   "outputs": [
    {
     "name": "stdout",
     "output_type": "stream",
     "text": [
      "{\"drinks\":[{\"strCategory\":\"Ordinary Drink\"},{\"strCategory\":\"Cocktail\"},{\"strCategory\":\"Shake\"},{\"strCategory\":\"Other\\/Unknown\"},{\"strCategory\":\"Cocoa\"},{\"strCategory\":\"Shot\"},{\"strCategory\":\"Coffee \\/ Tea\"},{\"strCategory\":\"Homemade Liqueur\"},{\"strCategory\":\"Punch \\/ Party Drink\"},{\"strCategory\":\"Beer\"},{\"strCategory\":\"Soft Drink\"}]}\n"
     ]
    }
   ],
   "source": [
    "import requests\n",
    "import json\n",
    "url = 'https://www.thecocktaildb.com/api/json/v1/1/search.php?s=margarita'\n",
    "r = requests.get(url)\n",
    "print(r.text)"
   ]
  },
  {
   "cell_type": "code",
   "execution_count": 4,
   "metadata": {},
   "outputs": [],
   "source": [
    "dictData = json.loads(r.text)\n",
    "url = \"https://datausa.io/api/data?drilldowns=Nation&measures=Population\"\n",
    "r = requests.get(url)"
   ]
  },
  {
   "cell_type": "code",
   "execution_count": 8,
   "metadata": {},
   "outputs": [
    {
     "name": "stdout",
     "output_type": "stream",
     "text": [
      "{'idDrink': '11007', 'strDrink': 'Margarita', 'strDrinkAlternate': None, 'strTags': 'IBA,ContemporaryClassic', 'strVideo': None, 'strCategory': 'Ordinary Drink', 'strIBA': 'Contemporary Classics', 'strAlcoholic': 'Alcoholic', 'strGlass': 'Cocktail glass', 'strInstructions': 'Rub the rim of the glass with the lime slice to make the salt stick to it. Take care to moisten only the outer rim and sprinkle the salt on it. The salt should present to the lips of the imbiber and never mix into the cocktail. Shake the other ingredients with ice, then carefully pour into the glass.', 'strInstructionsES': None, 'strInstructionsDE': 'Reiben Sie den Rand des Glases mit der Limettenscheibe, damit das Salz daran haftet. Achten Sie darauf, dass nur der äußere Rand angefeuchtet wird und streuen Sie das Salz darauf. Das Salz sollte sich auf den Lippen des Genießers befinden und niemals in den Cocktail einmischen. Die anderen Zutaten mit Eis schütteln und vorsichtig in das Glas geben.', 'strInstructionsFR': None, 'strInstructionsIT': 'Strofina il bordo del bicchiere con la fetta di lime per far aderire il sale.\\r\\nAvere cura di inumidire solo il bordo esterno e cospargere di sale.\\r\\nIl sale dovrebbe presentarsi alle labbra del bevitore e non mescolarsi mai al cocktail.\\r\\nShakerare gli altri ingredienti con ghiaccio, quindi versarli delicatamente nel bicchiere.', 'strInstructionsZH-HANS': None, 'strInstructionsZH-HANT': None, 'strDrinkThumb': 'https://www.thecocktaildb.com/images/media/drink/5noda61589575158.jpg', 'strIngredient1': 'Tequila', 'strIngredient2': 'Triple sec', 'strIngredient3': 'Lime juice', 'strIngredient4': 'Salt', 'strIngredient5': None, 'strIngredient6': None, 'strIngredient7': None, 'strIngredient8': None, 'strIngredient9': None, 'strIngredient10': None, 'strIngredient11': None, 'strIngredient12': None, 'strIngredient13': None, 'strIngredient14': None, 'strIngredient15': None, 'strMeasure1': '1 1/2 oz ', 'strMeasure2': '1/2 oz ', 'strMeasure3': '1 oz ', 'strMeasure4': None, 'strMeasure5': None, 'strMeasure6': None, 'strMeasure7': None, 'strMeasure8': None, 'strMeasure9': None, 'strMeasure10': None, 'strMeasure11': None, 'strMeasure12': None, 'strMeasure13': None, 'strMeasure14': None, 'strMeasure15': None, 'strImageSource': 'https://commons.wikimedia.org/wiki/File:Klassiche_Margarita.jpg', 'strImageAttribution': 'Cocktailmarler', 'strCreativeCommonsConfirmed': 'Yes', 'dateModified': '2015-08-18 14:42:59'}\n"
     ]
    }
   ],
   "source": [
    "print(dictData['drinks'][0])"
   ]
  },
  {
   "cell_type": "code",
   "execution_count": 13,
   "metadata": {},
   "outputs": [
    {
     "name": "stdout",
     "output_type": "stream",
     "text": [
      "11007\n",
      "11118\n",
      "17216\n",
      "16158\n",
      "12322\n",
      "178332\n"
     ]
    }
   ],
   "source": [
    "for strDrink in dictData['drinks']:\n",
    "    print(strDrink['strDrink'])"
   ]
  },
  {
   "cell_type": "code",
   "execution_count": 19,
   "metadata": {},
   "outputs": [
    {
     "name": "stdout",
     "output_type": "stream",
     "text": [
      "Drink Name Glass Served In\n",
      "\n",
      "Margarita Cocktail glass\n",
      "Blue Margarita Cocktail glass\n",
      "Tommy's Margarita Old-Fashioned glass\n",
      "Whitecap Margarita Margarita/Coupette glass\n",
      "Strawberry Margarita Cocktail glass\n",
      "Smashed Watermelon Margarita Collins glass\n"
     ]
    }
   ],
   "source": [
    "print('Drink Name', 'Glass Served In')\n",
    "print()\n",
    "for strDrink in dictData['drinks']:\n",
    "    print(strDrink['strDrink'], strDrink['strGlass'])"
   ]
  },
  {
   "cell_type": "code",
   "execution_count": null,
   "metadata": {},
   "outputs": [],
   "source": []
  }
 ],
 "metadata": {
  "kernelspec": {
   "display_name": "Python 3",
   "language": "python",
   "name": "python3"
  },
  "language_info": {
   "codemirror_mode": {
    "name": "ipython",
    "version": 3
   },
   "file_extension": ".py",
   "mimetype": "text/x-python",
   "name": "python",
   "nbconvert_exporter": "python",
   "pygments_lexer": "ipython3",
   "version": "3.6.5"
  }
 },
 "nbformat": 4,
 "nbformat_minor": 2
}
